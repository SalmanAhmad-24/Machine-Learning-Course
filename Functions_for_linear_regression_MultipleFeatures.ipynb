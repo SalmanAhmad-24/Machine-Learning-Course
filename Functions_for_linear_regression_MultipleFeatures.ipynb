{
 "cells": [
  {
   "cell_type": "markdown",
   "id": "f7654efc",
   "metadata": {},
   "source": [
    "#### Linear regression for multiple features"
   ]
  },
  {
   "cell_type": "code",
   "execution_count": 34,
   "id": "9975279c",
   "metadata": {},
   "outputs": [],
   "source": [
    "import numpy as np\n",
    "import copy"
   ]
  },
  {
   "cell_type": "code",
   "execution_count": 2,
   "id": "9213a4c3",
   "metadata": {},
   "outputs": [],
   "source": [
    "X_train=np.array([[2104,5,1,45],[1416,3,2,40],[852,2,1,35]])\n",
    "y_train=np.array([460,232,178])"
   ]
  },
  {
   "cell_type": "code",
   "execution_count": 3,
   "id": "cf9d4cc2",
   "metadata": {},
   "outputs": [
    {
     "data": {
      "text/plain": [
       "(3, 4)"
      ]
     },
     "execution_count": 3,
     "metadata": {},
     "output_type": "execute_result"
    }
   ],
   "source": [
    "b_init = 785.1811367994083\n",
    "w_init = np.array([ 0.39133535, 18.75376741, -53.36032453, -26.42131618])\n",
    "X_train.shape"
   ]
  },
  {
   "cell_type": "markdown",
   "id": "ea241997",
   "metadata": {},
   "source": [
    "#### Functions to calculate the predicted values"
   ]
  },
  {
   "cell_type": "code",
   "execution_count": 4,
   "id": "840c9f8a",
   "metadata": {},
   "outputs": [],
   "source": [
    "def prediction_val(x,w,b):\n",
    "    \n",
    "    n=x.shape[0]\n",
    "    w_sum=0\n",
    "    for i in range(n):\n",
    "        w_sum=w_sum+w[i]*x[i]\n",
    "    p=w_sum+b\n",
    "    return p"
   ]
  },
  {
   "cell_type": "code",
   "execution_count": 5,
   "id": "f54745d2",
   "metadata": {},
   "outputs": [],
   "source": [
    "# now the following code answers how do we calculate the prediction value for a row of features\n",
    "row=X_train[0,:]\n",
    "f_wb=prediction_val(row,w_init,b_init)\n"
   ]
  },
  {
   "cell_type": "code",
   "execution_count": 6,
   "id": "7d231ad4",
   "metadata": {},
   "outputs": [],
   "source": [
    "def predict(x,w,b):\n",
    "    p=np.dot(x,w)+b\n",
    "    return p"
   ]
  },
  {
   "cell_type": "code",
   "execution_count": 7,
   "id": "d2a5d879",
   "metadata": {},
   "outputs": [],
   "source": [
    "row=X_train[0,:]\n",
    "f_wb=prediction_val(row,w_init,b_init)"
   ]
  },
  {
   "cell_type": "markdown",
   "id": "0138e37c",
   "metadata": {},
   "source": [
    "#### Cost function for multiple variables"
   ]
  },
  {
   "cell_type": "code",
   "execution_count": 8,
   "id": "fb8ef015",
   "metadata": {},
   "outputs": [],
   "source": [
    "def compute_cost(x,w,b,y):\n",
    "    m=x.shape[0]\n",
    "    cost=0\n",
    "    for i in range(m):\n",
    "        dot_pro=np.dot(x[i],w)+b\n",
    "        sub=dot_pro-y[i]\n",
    "        cost=cost+(sub)**2\n",
    "    total_cost=cost/(2*m)\n",
    "    return total_cost\n",
    "    "
   ]
  },
  {
   "cell_type": "code",
   "execution_count": 9,
   "id": "a737b304",
   "metadata": {},
   "outputs": [
    {
     "name": "stdout",
     "output_type": "stream",
     "text": [
      "Cost at optimal w : 1.5578904880036537e-12\n"
     ]
    }
   ],
   "source": [
    "cost = compute_cost(X_train,  w_init,b_init,y_train)\n",
    "print(f'Cost at optimal w : {cost}')"
   ]
  },
  {
   "cell_type": "markdown",
   "id": "a4bc11b9",
   "metadata": {},
   "source": [
    "#### Compute gradient"
   ]
  },
  {
   "cell_type": "code",
   "execution_count": 38,
   "id": "c4d964fe",
   "metadata": {},
   "outputs": [],
   "source": [
    "def compute_gradient(X,y,w,b):\n",
    "    m,n=X.shape\n",
    "    dj_dw=np.zeros((n,))\n",
    "    dj_db=0\n",
    "    for i in range(m):\n",
    "        err=(np.dot(X[i],w)+b)-y[i]\n",
    "        for j in range(n):\n",
    "            dj_dw[j]=dj_dw[j]+err*X[i,j]\n",
    "        dj_db=dj_db+err\n",
    "    dj_dw=dj_dw/m\n",
    "    dj_db=dj_db/m\n",
    "    return dj_dw,dj_db"
   ]
  },
  {
   "cell_type": "code",
   "execution_count": 39,
   "id": "72bc1a52",
   "metadata": {},
   "outputs": [
    {
     "name": "stdout",
     "output_type": "stream",
     "text": [
      "dj_dw : [-2.72623581e-03 -6.27197272e-06 -2.21745580e-06 -6.92403399e-05]\n",
      "dj_db : -1.673925169143331e-06\n"
     ]
    }
   ],
   "source": [
    "tdj_dw,tdj_db=compute_gradient(X_train, y_train, w_init, b_init)\n",
    "print(f'dj_dw : {tdj_dw}')\n",
    "print(f'dj_db : {tdj_db}')"
   ]
  },
  {
   "cell_type": "code",
   "execution_count": 42,
   "id": "643f5451",
   "metadata": {},
   "outputs": [],
   "source": [
    "def gradient_descent(X,y,w_in,b_in,compute_gradient,alpha,num_iters):\n",
    "    w=copy.deepcopy(w_in)\n",
    "    b=b_in\n",
    "    for i in range(num_iters):\n",
    "        dj_dw,dj_db = compute_gradient(X, y, w, b)\n",
    "        w = w - alpha * dj_dw\n",
    "        b = b - alpha * dj_db\n",
    "        \n",
    "    return w,b"
   ]
  },
  {
   "cell_type": "code",
   "execution_count": 45,
   "id": "f7b35f3b",
   "metadata": {},
   "outputs": [
    {
     "data": {
      "text/plain": [
       "(array([ 0.20396569,  0.00374919, -0.0112487 , -0.0658614 ]),\n",
       " -0.002235407530932535)"
      ]
     },
     "execution_count": 45,
     "metadata": {},
     "output_type": "execute_result"
    }
   ],
   "source": [
    "w_in=np.zeros_like(w_init)\n",
    "b_in=0.\n",
    "gradient_descent(X_train,y_train,w_in,b_in,compute_gradient,5.0e-7,1000)"
   ]
  },
  {
   "cell_type": "code",
   "execution_count": null,
   "id": "135a0227",
   "metadata": {},
   "outputs": [],
   "source": []
  }
 ],
 "metadata": {
  "kernelspec": {
   "display_name": "Python 3 (ipykernel)",
   "language": "python",
   "name": "python3"
  },
  "language_info": {
   "codemirror_mode": {
    "name": "ipython",
    "version": 3
   },
   "file_extension": ".py",
   "mimetype": "text/x-python",
   "name": "python",
   "nbconvert_exporter": "python",
   "pygments_lexer": "ipython3",
   "version": "3.10.5"
  }
 },
 "nbformat": 4,
 "nbformat_minor": 5
}
