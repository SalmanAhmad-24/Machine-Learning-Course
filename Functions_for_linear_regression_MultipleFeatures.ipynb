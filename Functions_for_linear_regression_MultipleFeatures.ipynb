{
 "cells": [
  {
   "cell_type": "markdown",
   "id": "f7654efc",
   "metadata": {},
   "source": [
    "#### Linear regression for multiple features"
   ]
  },
  {
   "cell_type": "code",
   "execution_count": 22,
   "id": "9975279c",
   "metadata": {},
   "outputs": [],
   "source": [
    "import numpy as np"
   ]
  },
  {
   "cell_type": "code",
   "execution_count": 23,
   "id": "9213a4c3",
   "metadata": {},
   "outputs": [],
   "source": [
    "X_train=np.array([[2104,5,1,45],[1416,3,2,40],[852,2,1,35]])\n",
    "y_train=np.array([460,232,178])"
   ]
  },
  {
   "cell_type": "code",
   "execution_count": 24,
   "id": "cf9d4cc2",
   "metadata": {},
   "outputs": [
    {
     "data": {
      "text/plain": [
       "(3, 4)"
      ]
     },
     "execution_count": 24,
     "metadata": {},
     "output_type": "execute_result"
    }
   ],
   "source": [
    "b_init = 785.1811367994083\n",
    "w_init = np.array([ 0.39133535, 18.75376741, -53.36032453, -26.42131618])\n",
    "X_train.shape"
   ]
  },
  {
   "cell_type": "markdown",
   "id": "ea241997",
   "metadata": {},
   "source": [
    "#### Functions to calculate the predicted values"
   ]
  },
  {
   "cell_type": "code",
   "execution_count": 25,
   "id": "840c9f8a",
   "metadata": {},
   "outputs": [],
   "source": [
    "def prediction_val(x,w,b):\n",
    "    \n",
    "    n=x.shape[0]\n",
    "    w_sum=0\n",
    "    for i in range(n):\n",
    "        w_sum=w_sum+w[i]*x[i]\n",
    "    p=w_sum+b\n",
    "    return p"
   ]
  },
  {
   "cell_type": "code",
   "execution_count": 26,
   "id": "f54745d2",
   "metadata": {},
   "outputs": [],
   "source": [
    "# now the following code answers how do we calculate the prediction value for a row of features\n",
    "row=X_train[0,:]\n",
    "f_wb=prediction_val(row,w_init,b_init)\n"
   ]
  },
  {
   "cell_type": "code",
   "execution_count": 27,
   "id": "7d231ad4",
   "metadata": {},
   "outputs": [],
   "source": [
    "def predict(x,w,b):\n",
    "    p=np.dot(x,w)+b\n",
    "    return p"
   ]
  },
  {
   "cell_type": "code",
   "execution_count": 28,
   "id": "d2a5d879",
   "metadata": {},
   "outputs": [],
   "source": [
    "row=X_train[0,:]\n",
    "f_wb=prediction_val(row,w_init,b_init)"
   ]
  },
  {
   "cell_type": "markdown",
   "id": "0138e37c",
   "metadata": {},
   "source": [
    "#### Cost function for multiple variables"
   ]
  },
  {
   "cell_type": "code",
   "execution_count": 29,
   "id": "fb8ef015",
   "metadata": {},
   "outputs": [],
   "source": [
    "def compute_cost(x,w,b,y):\n",
    "    m=x.shape[0]\n",
    "    cost=0\n",
    "    for i in range(m):\n",
    "        dot_pro=np.dot(x[i],w)+b\n",
    "        sub=dot_pro-y[i]\n",
    "        cost=cost+(sub)**2\n",
    "    total_cost=cost/(2*m)\n",
    "    return total_cost\n",
    "    "
   ]
  },
  {
   "cell_type": "code",
   "execution_count": 21,
   "id": "a737b304",
   "metadata": {},
   "outputs": [
    {
     "name": "stdout",
     "output_type": "stream",
     "text": [
      "Cost at optimal w : 1.5578904880036537e-12\n"
     ]
    }
   ],
   "source": [
    "cost = compute_cost(X_train,  w_init,b_init,y_train)\n",
    "print(f'Cost at optimal w : {cost}')"
   ]
  },
  {
   "cell_type": "code",
   "execution_count": null,
   "id": "c4d964fe",
   "metadata": {},
   "outputs": [],
   "source": []
  }
 ],
 "metadata": {
  "kernelspec": {
   "display_name": "Python 3 (ipykernel)",
   "language": "python",
   "name": "python3"
  },
  "language_info": {
   "codemirror_mode": {
    "name": "ipython",
    "version": 3
   },
   "file_extension": ".py",
   "mimetype": "text/x-python",
   "name": "python",
   "nbconvert_exporter": "python",
   "pygments_lexer": "ipython3",
   "version": "3.10.5"
  }
 },
 "nbformat": 4,
 "nbformat_minor": 5
}
