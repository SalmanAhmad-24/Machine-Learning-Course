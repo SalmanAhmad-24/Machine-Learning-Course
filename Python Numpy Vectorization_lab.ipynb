{
 "cells": [
  {
   "cell_type": "code",
   "execution_count": 1,
   "id": "4929d823",
   "metadata": {},
   "outputs": [],
   "source": [
    "import numpy as np\n",
    "import time"
   ]
  },
  {
   "cell_type": "markdown",
   "id": "b88bffaf",
   "metadata": {},
   "source": [
    "## Vector creation"
   ]
  },
  {
   "cell_type": "code",
   "execution_count": 2,
   "id": "a4114510",
   "metadata": {},
   "outputs": [
    {
     "name": "stdout",
     "output_type": "stream",
     "text": [
      "np.zeros(4) = [0. 0. 0. 0.], a shape=(4,),a datatype =float64\n",
      "np.zeros(4,) = [0. 0. 0. 0.], a shape=(4,),a datatype =float64\n",
      "np.random.random_sample(4): a = [0.60881736 0.40421179 0.76873545 0.94562945], a shape = (4,), a data type = float64\n"
     ]
    }
   ],
   "source": [
    "a=np.zeros(4)\n",
    "print(f'np.zeros(4) = {a}, a shape={a.shape},a datatype ={a.dtype}')\n",
    "a=np.zeros(4,)\n",
    "print(f'np.zeros(4,) = {a}, a shape={a.shape},a datatype ={a.dtype}')\n",
    "a=np.random.random_sample(4)\n",
    "print(f\"np.random.random_sample(4): a = {a}, a shape = {a.shape}, a data type = {a.dtype}\")\n",
    "\n"
   ]
  },
  {
   "cell_type": "code",
   "execution_count": 3,
   "id": "8813afc7",
   "metadata": {},
   "outputs": [
    {
     "name": "stdout",
     "output_type": "stream",
     "text": [
      "np.arange(4.):     a = [0. 1. 2. 3.], a shape = (4,), a data type = float64\n",
      "np.random.rand(4): a = [0.23804321 0.07700432 0.96506588 0.20794439], a shape = (4,), a data type = float64\n"
     ]
    }
   ],
   "source": [
    "a=np.arange(4.)\n",
    "print(f\"np.arange(4.):     a = {a}, a shape = {a.shape}, a data type = {a.dtype}\")\n",
    "a=np.random.rand(4)\n",
    "print(f\"np.random.rand(4): a = {a}, a shape = {a.shape}, a data type = {a.dtype}\")"
   ]
  },
  {
   "cell_type": "code",
   "execution_count": 4,
   "id": "553bd68c",
   "metadata": {},
   "outputs": [
    {
     "name": "stdout",
     "output_type": "stream",
     "text": [
      "np.array([5,4,3,2]):  a = [5 4 3 2],     a shape = (4,), a data type = int32\n",
      "np.array([5.,4,3,2]): a = [5. 4. 3. 2.], a shape = (4,), a data type = float64\n"
     ]
    }
   ],
   "source": [
    "a=np.array([5,4,3,2])\n",
    "print(f\"np.array([5,4,3,2]):  a = {a},     a shape = {a.shape}, a data type = {a.dtype}\")\n",
    "a= np.array([5,4.,3,2])\n",
    "print(f\"np.array([5.,4,3,2]): a = {a}, a shape = {a.shape}, a data type = {a.dtype}\")"
   ]
  },
  {
   "cell_type": "markdown",
   "id": "d3e53e89",
   "metadata": {},
   "source": [
    "## Indexing"
   ]
  },
  {
   "cell_type": "code",
   "execution_count": 5,
   "id": "cd01ee9d",
   "metadata": {},
   "outputs": [
    {
     "name": "stdout",
     "output_type": "stream",
     "text": [
      "[0 1 2 3 4 5 6 7 8 9]\n",
      "a[2].shape: () a[2]  = 2, Accessing an element returns a scalar\n",
      "a[-1]: 9\n",
      "index 10 is out of bounds for axis 0 with size 10\n"
     ]
    }
   ],
   "source": [
    "a=np.arange(10)\n",
    "print(a)\n",
    "print(f\"a[2].shape: {a[2].shape} a[2]  = {a[2]}, Accessing an element returns a scalar\")\n",
    "print(f'a[-1]: {a[-1]}')\n",
    "\n",
    "try:\n",
    "    a[10]\n",
    "except Exception as e:\n",
    "    print(e)\n"
   ]
  },
  {
   "cell_type": "markdown",
   "id": "e835edee",
   "metadata": {},
   "source": [
    "## Slicing"
   ]
  },
  {
   "cell_type": "code",
   "execution_count": 6,
   "id": "0be3c17b",
   "metadata": {},
   "outputs": [
    {
     "name": "stdout",
     "output_type": "stream",
     "text": [
      "a        = [0 1 2 3 4 5 6 7 8 9]\n",
      "a[2:7:1] =  [2 3 4 5 6]\n",
      "a[2:7:2] =  [2 4 6]\n",
      "a[3:]    =  [3 4 5 6 7 8 9]\n",
      "a[:3]    =  [0 1 2]\n",
      "a[:]     =  [0 1 2 3 4 5 6 7 8 9]\n"
     ]
    }
   ],
   "source": [
    "a=np.arange(10)\n",
    "print(f\"a        = {a}\")     \n",
    "c=a[2:7:1]\n",
    "print(\"a[2:7:1] = \", c)\n",
    "c=a[2:7:2]\n",
    "print(\"a[2:7:2] = \", c)\n",
    "c=a[3:]\n",
    "print(\"a[3:]    = \", c)\n",
    "c=a[:3]\n",
    "print(\"a[:3]    = \", c)\n",
    "c=a[:]\n",
    "print(\"a[:]     = \", c)"
   ]
  },
  {
   "cell_type": "markdown",
   "id": "2f5813d5",
   "metadata": {},
   "source": [
    "## Single vector operation"
   ]
  },
  {
   "cell_type": "code",
   "execution_count": 7,
   "id": "e9965b07",
   "metadata": {},
   "outputs": [
    {
     "name": "stdout",
     "output_type": "stream",
     "text": [
      "a             : [1 2 3 4]\n",
      "b = -a        : [-1 -2 -3 -4]\n",
      "b = np.sum(a) : 10\n",
      "b = np.mean(a): 2.5\n",
      "b = a**2      : [ 1  4  9 16]\n"
     ]
    }
   ],
   "source": [
    "a=np.array([1,2,3,4])\n",
    "print(f\"a             : {a}\")\n",
    "b=-a\n",
    "print(f\"b = -a        : {b}\")\n",
    "b=np.sum(a)\n",
    "print(f\"b = np.sum(a) : {b}\")\n",
    "b=np.mean(a)\n",
    "print(f\"b = np.mean(a): {b}\")\n",
    "b=a**2\n",
    "print(f\"b = a**2      : {b}\")"
   ]
  },
  {
   "cell_type": "markdown",
   "id": "db3703e0",
   "metadata": {},
   "source": [
    "## Vector Vector element wise opeartion"
   ]
  },
  {
   "cell_type": "code",
   "execution_count": 8,
   "id": "eab9b825",
   "metadata": {},
   "outputs": [
    {
     "name": "stdout",
     "output_type": "stream",
     "text": [
      "Binary operators work element wise: [0 0 6 8]\n"
     ]
    }
   ],
   "source": [
    "a=np.array([1,2,3,4])\n",
    "b=np.array([-1,-2,3,4])\n",
    "print(f\"Binary operators work element wise: {a + b}\")"
   ]
  },
  {
   "cell_type": "code",
   "execution_count": 9,
   "id": "6bc72488",
   "metadata": {},
   "outputs": [
    {
     "name": "stdout",
     "output_type": "stream",
     "text": [
      "The error message you'll see is:\n",
      "operands could not be broadcast together with shapes (4,) (2,) \n"
     ]
    }
   ],
   "source": [
    "c = np.array([1, 2])\n",
    "try:\n",
    "    d = a + c\n",
    "except Exception as e:\n",
    "    print(\"The error message you'll see is:\")\n",
    "    print(e)"
   ]
  },
  {
   "cell_type": "markdown",
   "id": "519f6b97",
   "metadata": {},
   "source": [
    "## Scalar vector operation"
   ]
  },
  {
   "cell_type": "code",
   "execution_count": 10,
   "id": "59c246bf",
   "metadata": {},
   "outputs": [
    {
     "name": "stdout",
     "output_type": "stream",
     "text": [
      "b = 5 * a : [ 5 10 15 20]\n"
     ]
    }
   ],
   "source": [
    "a=np.array([1,2,3,4])\n",
    "b=5*a\n",
    "print(f\"b = 5 * a : {b}\")"
   ]
  },
  {
   "cell_type": "markdown",
   "id": "5b830f88",
   "metadata": {},
   "source": [
    "## Vector vector dot product"
   ]
  },
  {
   "cell_type": "code",
   "execution_count": 11,
   "id": "57c1e290",
   "metadata": {},
   "outputs": [],
   "source": [
    "\n",
    "def dot_pro(a,b):\n",
    "    sum=0\n",
    "    for i in range(a.shape[0]):\n",
    "        sum=sum+a[i]*b[i]\n",
    "    return sum"
   ]
  },
  {
   "cell_type": "code",
   "execution_count": 12,
   "id": "b0207a59",
   "metadata": {},
   "outputs": [
    {
     "name": "stdout",
     "output_type": "stream",
     "text": [
      "dot_pro(a, b) = 24\n"
     ]
    }
   ],
   "source": [
    "a = np.array([1, 2, 3, 4])\n",
    "b = np.array([-1, 4, 3, 2])\n",
    "print(f\"dot_pro(a, b) = {dot_pro(a, b)}\")"
   ]
  },
  {
   "cell_type": "code",
   "execution_count": 13,
   "id": "6d4c1210",
   "metadata": {},
   "outputs": [
    {
     "name": "stdout",
     "output_type": "stream",
     "text": [
      "NumPy 1-D np.dot(a, b) = 24, np.dot(a, b).shape = () \n",
      "NumPy 1-D np.dot(b, a) = 24, np.dot(a, b).shape = () \n"
     ]
    }
   ],
   "source": [
    "a = np.array([1, 2, 3, 4])\n",
    "b = np.array([-1, 4, 3, 2])\n",
    "c=np.dot(a,b)\n",
    "print(f\"NumPy 1-D np.dot(a, b) = {c}, np.dot(a, b).shape = {c.shape} \")\n",
    "c = np.dot(b, a)\n",
    "print(f\"NumPy 1-D np.dot(b, a) = {c}, np.dot(a, b).shape = {c.shape} \")"
   ]
  },
  {
   "cell_type": "markdown",
   "id": "ddfa2aaa",
   "metadata": {},
   "source": [
    "### The need for speed vector vs loop"
   ]
  },
  {
   "cell_type": "code",
   "execution_count": 14,
   "id": "7ce7c265",
   "metadata": {},
   "outputs": [
    {
     "name": "stdout",
     "output_type": "stream",
     "text": [
      "np.dot(a,b) = 24.0000\n",
      "Vectorized version duration: 23.7772 ms \n",
      "my_dot(a, b) =  24.0000\n",
      "loop version duration: 2333.2276 ms \n"
     ]
    }
   ],
   "source": [
    "np.random.seed(1)\n",
    "a=np.random.rand(10000000)\n",
    "b=np.random.rand(10000000)\n",
    "tic=time.time()\n",
    "dot=np.dot(a,b)\n",
    "toc=time.time()\n",
    "print(f'np.dot(a,b) = {c:.4f}')\n",
    "print(f\"Vectorized version duration: {1000*(toc-tic):.4f} ms \")\n",
    "tic=time.time()\n",
    "dot=dot_pro(a,b)\n",
    "toc=time.time()\n",
    "print(f\"my_dot(a, b) =  {c:.4f}\")\n",
    "print(f\"loop version duration: {1000*(toc-tic):.4f} ms \")\n",
    "\n",
    "del a\n",
    "del b"
   ]
  },
  {
   "cell_type": "code",
   "execution_count": 21,
   "id": "9a6bcbae",
   "metadata": {},
   "outputs": [
    {
     "name": "stdout",
     "output_type": "stream",
     "text": [
      "x[1] has shape (1,)\n",
      "w has shape (1,)\n",
      "c has shape ()\n"
     ]
    }
   ],
   "source": [
    "x=np.array([[1],[2],[3],[4]])\n",
    "w=np.array([2])\n",
    "c=np.dot(x[1],w)\n",
    "\n",
    "print(f\"x[1] has shape {x[1].shape}\")\n",
    "print(f\"w has shape {w.shape}\")\n",
    "print(f\"c has shape {c.shape}\")\n"
   ]
  },
  {
   "cell_type": "markdown",
   "id": "db2e8053",
   "metadata": {},
   "source": [
    "## Matrices"
   ]
  },
  {
   "cell_type": "code",
   "execution_count": 19,
   "id": "954c6951",
   "metadata": {},
   "outputs": [
    {
     "name": "stdout",
     "output_type": "stream",
     "text": [
      "a shape = (1, 5), a = [[0. 0. 0. 0. 0.]]\n",
      "a shape = (5, 1), a = [[0.]\n",
      " [0.]\n",
      " [0.]\n",
      " [0.]\n",
      " [0.]]\n",
      "a shape = (1, 1), a = [[0.44236513]]\n"
     ]
    }
   ],
   "source": [
    "a=np.zeros((1,5))\n",
    "print(f\"a shape = {a.shape}, a = {a}\")                     \n",
    "\n",
    "a=np.zeros((5,1))\n",
    "print(f\"a shape = {a.shape}, a = {a}\") \n",
    "\n",
    "a=np.random.random_sample((1,1))\n",
    "print(f\"a shape = {a.shape}, a = {a}\") "
   ]
  },
  {
   "cell_type": "code",
   "execution_count": 24,
   "id": "00db9bf0",
   "metadata": {},
   "outputs": [
    {
     "name": "stdout",
     "output_type": "stream",
     "text": [
      " a shape = (3, 1), np.array: a = [[5]\n",
      " [4]\n",
      " [3]]\n",
      " a shape = (4, 1), np.array: a = [[5]\n",
      " [4]\n",
      " [3]\n",
      " [2]]\n"
     ]
    }
   ],
   "source": [
    "a=np.array([[5],[4],[3]])\n",
    "print(f\" a shape = {a.shape}, np.array: a = {a}\")\n",
    "a=np.array([[5],\n",
    "           [4],\n",
    "           [3],\n",
    "           [2]])\n",
    "print(f\" a shape = {a.shape}, np.array: a = {a}\")"
   ]
  },
  {
   "cell_type": "markdown",
   "id": "938b237e",
   "metadata": {},
   "source": [
    "### Operations on matrices\n"
   ]
  },
  {
   "cell_type": "code",
   "execution_count": 28,
   "id": "0531e954",
   "metadata": {},
   "outputs": [
    {
     "name": "stdout",
     "output_type": "stream",
     "text": [
      "a.shape: (3, 2), \n",
      "a= [[0 1]\n",
      " [2 3]\n",
      " [4 5]]\n",
      "\n",
      " a[2,0].shape: (), a[2,0]=4, type=(a[2,0])=<class 'numpy.int32'>\n",
      "a[2].shape: (2,),a[2]=[4 5], type(a[2]) =<class 'numpy.ndarray'>\n"
     ]
    }
   ],
   "source": [
    "a=np.arange(6).reshape(-1,2)# The -1 argument tells to compute the number of rows according to the\n",
    "                            # size of the array and the number of columns\n",
    "print(f\"a.shape: {a.shape}, \\na= {a}\")\n",
    "print(f'\\n a[2,0].shape: {a[2,0].shape}, a[2,0]={a[2,0]}, type=(a[2,0])={type(a[2,0])}')\n",
    "print(f'a[2].shape: {a[2].shape},a[2]={a[2]}, type(a[2]) ={type(a[2])}')"
   ]
  },
  {
   "cell_type": "code",
   "execution_count": 35,
   "id": "374d84cb",
   "metadata": {},
   "outputs": [
    {
     "name": "stdout",
     "output_type": "stream",
     "text": [
      "a = \n",
      "[[ 0  1  2  3  4  5  6  7  8  9]\n",
      " [10 11 12 13 14 15 16 17 18 19]]\n",
      "a[0, 2:7:1] =  [2 3 4 5 6] ,  a[0, 2:7:1].shape = (5,) a 1-D array\n",
      "a[:, 2:7:1] = \n",
      " [[ 2  3  4  5  6]\n",
      " [12 13 14 15 16]] ,  a[:, 2:7:1].shape = (2, 5) a 2-D array\n",
      "a[:,:] = \n",
      " [[ 0  1  2  3  4  5  6  7  8  9]\n",
      " [10 11 12 13 14 15 16 17 18 19]] ,  a[:,:].shape = (2, 10)\n",
      "a[1,:] =  [10 11 12 13 14 15 16 17 18 19] ,  a[1,:].shape = (10,) a 1-D array\n",
      "a[1]   =  [10 11 12 13 14 15 16 17 18 19] ,  a[1].shape   = (10,) a 1-D array\n"
     ]
    }
   ],
   "source": [
    "a = np.arange(20).reshape(-1, 10)\n",
    "print(f\"a = \\n{a}\")\n",
    "print(\"a[0, 2:7:1] = \", a[0, 2:7:1], \",  a[0, 2:7:1].shape =\", a[0, 2:7:1].shape, \"a 1-D array\")\n",
    "print(\"a[:, 2:7:1] = \\n\", a[:, 2:7:1], \",  a[:, 2:7:1].shape =\", a[:, 2:7:1].shape, \"a 2-D array\")\n",
    "print(\"a[:,:] = \\n\", a[:,:], \",  a[:,:].shape =\", a[:,:].shape)\n",
    "print(\"a[1,:] = \", a[1,:], \",  a[1,:].shape =\", a[1,:].shape, \"a 1-D array\")\n",
    "print(\"a[1]   = \", a[1],   \",  a[1].shape   =\", a[1].shape, \"a 1-D array\")"
   ]
  },
  {
   "cell_type": "code",
   "execution_count": null,
   "id": "93a1d7be",
   "metadata": {},
   "outputs": [],
   "source": []
  }
 ],
 "metadata": {
  "kernelspec": {
   "display_name": "Python 3 (ipykernel)",
   "language": "python",
   "name": "python3"
  },
  "language_info": {
   "codemirror_mode": {
    "name": "ipython",
    "version": 3
   },
   "file_extension": ".py",
   "mimetype": "text/x-python",
   "name": "python",
   "nbconvert_exporter": "python",
   "pygments_lexer": "ipython3",
   "version": "3.10.5"
  }
 },
 "nbformat": 4,
 "nbformat_minor": 5
}
