{
 "cells": [
  {
   "cell_type": "code",
   "execution_count": 1,
   "id": "4929d823",
   "metadata": {},
   "outputs": [],
   "source": [
    "import numpy as np\n",
    "import time"
   ]
  },
  {
   "cell_type": "markdown",
   "id": "b88bffaf",
   "metadata": {},
   "source": [
    "## Vector creation"
   ]
  },
  {
   "cell_type": "code",
   "execution_count": 7,
   "id": "a4114510",
   "metadata": {},
   "outputs": [
    {
     "name": "stdout",
     "output_type": "stream",
     "text": [
      "np.zeros(4) = [0. 0. 0. 0.], a shape=(4,),a datatype =float64\n",
      "np.zeros(4,) = [0. 0. 0. 0.], a shape=(4,),a datatype =float64\n",
      "np.random.random_sample(4): a = [0.59832243 0.85051315 0.13742975 0.04124324], a shape = (4,), a data type = float64\n"
     ]
    }
   ],
   "source": [
    "a=np.zeros(4)\n",
    "print(f'np.zeros(4) = {a}, a shape={a.shape},a datatype ={a.dtype}')\n",
    "a=np.zeros(4,)\n",
    "print(f'np.zeros(4,) = {a}, a shape={a.shape},a datatype ={a.dtype}')\n",
    "a=np.random.random_sample(4)\n",
    "print(f\"np.random.random_sample(4): a = {a}, a shape = {a.shape}, a data type = {a.dtype}\")\n",
    "\n"
   ]
  },
  {
   "cell_type": "code",
   "execution_count": 14,
   "id": "8813afc7",
   "metadata": {},
   "outputs": [
    {
     "name": "stdout",
     "output_type": "stream",
     "text": [
      "np.arange(4.):     a = [0. 1. 2. 3.], a shape = (4,), a data type = float64\n",
      "np.random.rand(4): a = [0.33482807 0.20806478 0.63028354 0.11247606], a shape = (4,), a data type = float64\n"
     ]
    }
   ],
   "source": [
    "a=np.arange(4.)\n",
    "print(f\"np.arange(4.):     a = {a}, a shape = {a.shape}, a data type = {a.dtype}\")\n",
    "a=np.random.rand(4)\n",
    "print(f\"np.random.rand(4): a = {a}, a shape = {a.shape}, a data type = {a.dtype}\")"
   ]
  },
  {
   "cell_type": "code",
   "execution_count": 19,
   "id": "553bd68c",
   "metadata": {},
   "outputs": [
    {
     "name": "stdout",
     "output_type": "stream",
     "text": [
      "np.array([5,4,3,2]):  a = [5 4 3 2],     a shape = (4,), a data type = int32\n",
      "np.array([5.,4,3,2]): a = [5. 4. 3. 2.], a shape = (4,), a data type = float64\n"
     ]
    }
   ],
   "source": [
    "a=np.array([5,4,3,2])\n",
    "print(f\"np.array([5,4,3,2]):  a = {a},     a shape = {a.shape}, a data type = {a.dtype}\")\n",
    "a= np.array([5,4.,3,2])\n",
    "print(f\"np.array([5.,4,3,2]): a = {a}, a shape = {a.shape}, a data type = {a.dtype}\")"
   ]
  },
  {
   "cell_type": "markdown",
   "id": "d3e53e89",
   "metadata": {},
   "source": [
    "## Indexing"
   ]
  },
  {
   "cell_type": "code",
   "execution_count": 21,
   "id": "cd01ee9d",
   "metadata": {},
   "outputs": [
    {
     "name": "stdout",
     "output_type": "stream",
     "text": [
      "[0 1 2 3 4 5 6 7 8 9]\n",
      "a[2].shape: () a[2]  = 2, Accessing an element returns a scalar\n",
      "a[-1]: 9\n",
      "index 10 is out of bounds for axis 0 with size 10\n"
     ]
    }
   ],
   "source": [
    "a=np.arange(10)\n",
    "print(a)\n",
    "print(f\"a[2].shape: {a[2].shape} a[2]  = {a[2]}, Accessing an element returns a scalar\")\n",
    "print(f'a[-1]: {a[-1]}')\n",
    "\n",
    "try:\n",
    "    a[10]\n",
    "except Exception as e:\n",
    "    print(e)\n"
   ]
  },
  {
   "cell_type": "markdown",
   "id": "e835edee",
   "metadata": {},
   "source": [
    "## Slicing"
   ]
  },
  {
   "cell_type": "code",
   "execution_count": 24,
   "id": "0be3c17b",
   "metadata": {},
   "outputs": [
    {
     "name": "stdout",
     "output_type": "stream",
     "text": [
      "a        = [0 1 2 3 4 5 6 7 8 9]\n",
      "a[2:7:1] =  [2 3 4 5 6]\n",
      "a[2:7:2] =  [2 4 6]\n",
      "a[3:]    =  [3 4 5 6 7 8 9]\n",
      "a[:3]    =  [0 1 2]\n",
      "a[:]     =  [0 1 2 3 4 5 6 7 8 9]\n"
     ]
    }
   ],
   "source": [
    "a=np.arange(10)\n",
    "print(f\"a        = {a}\")     \n",
    "c=a[2:7:1]\n",
    "print(\"a[2:7:1] = \", c)\n",
    "c=a[2:7:2]\n",
    "print(\"a[2:7:2] = \", c)\n",
    "c=a[3:]\n",
    "print(\"a[3:]    = \", c)\n",
    "c=a[:3]\n",
    "print(\"a[:3]    = \", c)\n",
    "c=a[:]\n",
    "print(\"a[:]     = \", c)"
   ]
  },
  {
   "cell_type": "markdown",
   "id": "2f5813d5",
   "metadata": {},
   "source": [
    "## Single vector operation"
   ]
  },
  {
   "cell_type": "code",
   "execution_count": 25,
   "id": "e9965b07",
   "metadata": {},
   "outputs": [
    {
     "name": "stdout",
     "output_type": "stream",
     "text": [
      "a             : [1 2 3 4]\n",
      "b = -a        : [-1 -2 -3 -4]\n",
      "b = np.sum(a) : 10\n",
      "b = np.mean(a): 2.5\n",
      "b = a**2      : [ 1  4  9 16]\n"
     ]
    }
   ],
   "source": [
    "a=np.array([1,2,3,4])\n",
    "print(f\"a             : {a}\")\n",
    "b=-a\n",
    "print(f\"b = -a        : {b}\")\n",
    "b=np.sum(a)\n",
    "print(f\"b = np.sum(a) : {b}\")\n",
    "b=np.mean(a)\n",
    "print(f\"b = np.mean(a): {b}\")\n",
    "b=a**2\n",
    "print(f\"b = a**2      : {b}\")"
   ]
  },
  {
   "cell_type": "markdown",
   "id": "db3703e0",
   "metadata": {},
   "source": [
    "## Vector Vector element wise opeartion"
   ]
  },
  {
   "cell_type": "code",
   "execution_count": 27,
   "id": "eab9b825",
   "metadata": {},
   "outputs": [
    {
     "name": "stdout",
     "output_type": "stream",
     "text": [
      "Binary operators work element wise: [0 0 6 8]\n"
     ]
    }
   ],
   "source": [
    "a=np.array([1,2,3,4])\n",
    "b=np.array([-1,-2,3,4])\n",
    "print(f\"Binary operators work element wise: {a + b}\")"
   ]
  },
  {
   "cell_type": "code",
   "execution_count": 28,
   "id": "6bc72488",
   "metadata": {},
   "outputs": [
    {
     "name": "stdout",
     "output_type": "stream",
     "text": [
      "The error message you'll see is:\n",
      "operands could not be broadcast together with shapes (4,) (2,) \n"
     ]
    }
   ],
   "source": [
    "c = np.array([1, 2])\n",
    "try:\n",
    "    d = a + c\n",
    "except Exception as e:\n",
    "    print(\"The error message you'll see is:\")\n",
    "    print(e)"
   ]
  },
  {
   "cell_type": "markdown",
   "id": "519f6b97",
   "metadata": {},
   "source": [
    "## Scalar vector operation"
   ]
  },
  {
   "cell_type": "code",
   "execution_count": 29,
   "id": "59c246bf",
   "metadata": {},
   "outputs": [
    {
     "name": "stdout",
     "output_type": "stream",
     "text": [
      "b = 5 * a : [ 5 10 15 20]\n"
     ]
    }
   ],
   "source": [
    "a=np.array([1,2,3,4])\n",
    "b=5*a\n",
    "print(f\"b = 5 * a : {b}\")"
   ]
  },
  {
   "cell_type": "markdown",
   "id": "5b830f88",
   "metadata": {},
   "source": [
    "## Vector vector dot product"
   ]
  },
  {
   "cell_type": "code",
   "execution_count": 30,
   "id": "57c1e290",
   "metadata": {},
   "outputs": [],
   "source": [
    "\n",
    "def dot_pro(a,b):\n",
    "    sum=0\n",
    "    for i in range(a.shape[0]):\n",
    "        sum=sum+a[i]*b[i]\n",
    "    return sum"
   ]
  },
  {
   "cell_type": "code",
   "execution_count": 31,
   "id": "b0207a59",
   "metadata": {},
   "outputs": [
    {
     "name": "stdout",
     "output_type": "stream",
     "text": [
      "dot_pro(a, b) = 24\n"
     ]
    }
   ],
   "source": [
    "a = np.array([1, 2, 3, 4])\n",
    "b = np.array([-1, 4, 3, 2])\n",
    "print(f\"dot_pro(a, b) = {dot_pro(a, b)}\")"
   ]
  },
  {
   "cell_type": "code",
   "execution_count": 33,
   "id": "6d4c1210",
   "metadata": {},
   "outputs": [
    {
     "name": "stdout",
     "output_type": "stream",
     "text": [
      "NumPy 1-D np.dot(a, b) = 24, np.dot(a, b).shape = () \n",
      "NumPy 1-D np.dot(b, a) = 24, np.dot(a, b).shape = () \n"
     ]
    }
   ],
   "source": [
    "a = np.array([1, 2, 3, 4])\n",
    "b = np.array([-1, 4, 3, 2])\n",
    "c=np.dot(a,b)\n",
    "print(f\"NumPy 1-D np.dot(a, b) = {c}, np.dot(a, b).shape = {c.shape} \")\n",
    "c = np.dot(b, a)\n",
    "print(f\"NumPy 1-D np.dot(b, a) = {c}, np.dot(a, b).shape = {c.shape} \")"
   ]
  },
  {
   "cell_type": "markdown",
   "id": "ddfa2aaa",
   "metadata": {},
   "source": [
    "### The need for speed vector vs loop"
   ]
  },
  {
   "cell_type": "code",
   "execution_count": 43,
   "id": "7ce7c265",
   "metadata": {},
   "outputs": [
    {
     "name": "stdout",
     "output_type": "stream",
     "text": [
      "np.dot(a,b) = 24.0000\n",
      "Vectorized version duration: 9.6054 ms \n",
      "my_dot(a, b) =  24.0000\n",
      "loop version duration: 2150.4297 ms \n"
     ]
    }
   ],
   "source": [
    "np.random.seed(1)\n",
    "a=np.random.rand(10000000)\n",
    "b=np.random.rand(10000000)\n",
    "tic=time.time()\n",
    "dot=np.dot(a,b)\n",
    "toc=time.time()\n",
    "print(f'np.dot(a,b) = {c:.4f}')\n",
    "print(f\"Vectorized version duration: {1000*(toc-tic):.4f} ms \")\n",
    "tic=time.time()\n",
    "dot=dot_pro(a,b)\n",
    "toc=time.time()\n",
    "print(f\"my_dot(a, b) =  {c:.4f}\")\n",
    "print(f\"loop version duration: {1000*(toc-tic):.4f} ms \")\n",
    "\n",
    "del a\n",
    "del b"
   ]
  },
  {
   "cell_type": "code",
   "execution_count": null,
   "id": "9a6bcbae",
   "metadata": {},
   "outputs": [],
   "source": []
  },
  {
   "cell_type": "code",
   "execution_count": null,
   "id": "560bbe94",
   "metadata": {},
   "outputs": [],
   "source": []
  }
 ],
 "metadata": {
  "kernelspec": {
   "display_name": "Python 3 (ipykernel)",
   "language": "python",
   "name": "python3"
  },
  "language_info": {
   "codemirror_mode": {
    "name": "ipython",
    "version": 3
   },
   "file_extension": ".py",
   "mimetype": "text/x-python",
   "name": "python",
   "nbconvert_exporter": "python",
   "pygments_lexer": "ipython3",
   "version": "3.10.5"
  }
 },
 "nbformat": 4,
 "nbformat_minor": 5
}
