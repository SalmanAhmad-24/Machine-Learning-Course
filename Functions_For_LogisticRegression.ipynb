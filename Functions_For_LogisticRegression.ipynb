{
 "cells": [
  {
   "cell_type": "markdown",
   "id": "0155948e",
   "metadata": {},
   "source": [
    "### Sigmoid Function"
   ]
  },
  {
   "cell_type": "code",
   "execution_count": 1,
   "id": "5b65f3a1",
   "metadata": {},
   "outputs": [],
   "source": [
    "# numpy has a special method exp() which calculates e^z\n",
    "import numpy as np\n",
    "def sigmoid(z):\n",
    "    \n",
    "    g = 1 / (1 + np.exp(-z))\n",
    "    \n",
    "    return g"
   ]
  },
  {
   "cell_type": "code",
   "execution_count": 6,
   "id": "160931a9",
   "metadata": {},
   "outputs": [
    {
     "name": "stdout",
     "output_type": "stream",
     "text": [
      "input(z)  output(y)\n",
      "[[-5.     0.007]\n",
      " [-4.     0.018]\n",
      " [-3.     0.047]\n",
      " [-2.     0.119]\n",
      " [-1.     0.269]\n",
      " [ 0.     0.5  ]\n",
      " [ 1.     0.731]\n",
      " [ 2.     0.881]\n",
      " [ 3.     0.953]\n",
      " [ 4.     0.982]]\n"
     ]
    }
   ],
   "source": [
    "# lets see how the function works\n",
    "z_temp=np.arange(-5,5)\n",
    "\n",
    "y=sigmoid(z_temp)\n",
    "\n",
    "np.set_printoptions(precision=3)\n",
    "\n",
    "output=np.c_[z_temp,y]\n",
    "print('input(z)  output(y)')\n",
    "print(output)"
   ]
  },
  {
   "cell_type": "markdown",
   "id": "5a2f46ec",
   "metadata": {},
   "source": [
    "### Cost function for logistic regression"
   ]
  },
  {
   "cell_type": "code",
   "execution_count": 8,
   "id": "430d66c9",
   "metadata": {},
   "outputs": [],
   "source": [
    "X_train = np.array([[0.5, 1.5], [1,1], [1.5, 0.5], [3, 0.5], [2, 2], [1, 2.5]])\n",
    "y_train=np.array([0,0,0,1,1,1])"
   ]
  },
  {
   "cell_type": "code",
   "execution_count": 9,
   "id": "5aef0c32",
   "metadata": {},
   "outputs": [],
   "source": [
    "def compute_cost_logistic(X,y,w,b):\n",
    "    m=X.shape[0]\n",
    "    cost=0.0\n",
    "    \n",
    "    for i in range(m):\n",
    "        z_i=np.dot(X[i],w)+b\n",
    "        f_wb_i=sigmoid(z_i)\n",
    "        \n",
    "        cost+=-y[i]*np.log(f_wb_i)-(1-y[i])*np.log(1-f_wb_i)\n",
    "    \n",
    "    cost=cost/m\n",
    "    return cost"
   ]
  },
  {
   "cell_type": "code",
   "execution_count": 10,
   "id": "1e7587a1",
   "metadata": {},
   "outputs": [
    {
     "name": "stdout",
     "output_type": "stream",
     "text": [
      "0.36686678640551745\n"
     ]
    }
   ],
   "source": [
    "w_temp=np.array([1,1])\n",
    "b=-3\n",
    "print(compute_cost_logistic(X_train,y_train,w_temp,b))"
   ]
  },
  {
   "cell_type": "markdown",
   "id": "b6526a91",
   "metadata": {},
   "source": [
    "### Gradient descent for logistic regression"
   ]
  },
  {
   "cell_type": "code",
   "execution_count": 11,
   "id": "4b9593f8",
   "metadata": {},
   "outputs": [],
   "source": [
    "def compute_gradient_logistic(X,y,w,b):\n",
    "    m,n=X.shape\n",
    "    dj_dw=np.zeros((n,))\n",
    "    dj_db=0.0\n",
    "    for i in range(m):\n",
    "        z_i=np.dot(X[i],w)+b\n",
    "        err=sigmoid(z_i)-y[i]\n",
    "        for j in range(n):\n",
    "            dj_dw[j]=dj_dw[j]+err*X[i,j]\n",
    "        dj_db=dj_db+err\n",
    "    dj_dw=dj_dw/m\n",
    "    dj_db=dj_db/m\n",
    "    return dj_dw,dj_db"
   ]
  },
  {
   "cell_type": "code",
   "execution_count": 14,
   "id": "ffcd55ed",
   "metadata": {},
   "outputs": [
    {
     "name": "stdout",
     "output_type": "stream",
     "text": [
      "dj_db: 0.49861806546328574\n",
      "dj_dw: [0.498333393278696, 0.49883942983996693]\n"
     ]
    }
   ],
   "source": [
    "X_tmp = np.array([[0.5, 1.5], [1,1], [1.5, 0.5], [3, 0.5], [2, 2], [1, 2.5]])\n",
    "y_tmp = np.array([0, 0, 0, 1, 1, 1])\n",
    "w_tmp = np.array([2.,3.])\n",
    "b_tmp = 1.\n",
    "dj_dw_tmp, dj_db_tmp = compute_gradient_logistic(X_tmp, y_tmp, w_tmp, b_tmp)\n",
    "print(f\"dj_db: {dj_db_tmp}\" )\n",
    "print(f\"dj_dw: {dj_dw_tmp.tolist()}\")"
   ]
  },
  {
   "cell_type": "code",
   "execution_count": 15,
   "id": "96ce5de0",
   "metadata": {},
   "outputs": [],
   "source": [
    "import copy\n",
    "def gradient_descent_logistic(X,y,w_in,b_in,alpha,num_iters):\n",
    "    w=copy.deepcopy(w_in)\n",
    "    b=b_in\n",
    "    for i in range(num_iters):\n",
    "        dj_dw,dj_db = compute_gradient_logistic(X, y, w, b)\n",
    "        w = w - alpha * dj_dw\n",
    "        b = b - alpha * dj_db\n",
    "        \n",
    "    return w,b"
   ]
  },
  {
   "cell_type": "code",
   "execution_count": 18,
   "id": "2d70498b",
   "metadata": {},
   "outputs": [
    {
     "name": "stdout",
     "output_type": "stream",
     "text": [
      "\n",
      "updated parameters: w:[5.281 5.078], b:-14.222409982019837\n"
     ]
    }
   ],
   "source": [
    "w_tmp  = np.zeros_like(X_train[0])\n",
    "b_tmp  = 0.\n",
    "alph = 0.1\n",
    "iters = 10000\n",
    "\n",
    "w_out, b_out = gradient_descent_logistic(X_train, y_train, w_tmp, b_tmp, alph, iters) \n",
    "print(f\"\\nupdated parameters: w:{w_out}, b:{b_out}\")"
   ]
  },
  {
   "cell_type": "code",
   "execution_count": 35,
   "id": "4a54c3e1",
   "metadata": {},
   "outputs": [
    {
     "data": {
      "text/plain": [
       "array([-0.402, -0.079,  0.458,  0.033,  0.192, -0.184])"
      ]
     },
     "execution_count": 35,
     "metadata": {},
     "output_type": "execute_result"
    }
   ],
   "source": []
  },
  {
   "cell_type": "code",
   "execution_count": null,
   "id": "7b903f11",
   "metadata": {},
   "outputs": [],
   "source": []
  }
 ],
 "metadata": {
  "kernelspec": {
   "display_name": "Python 3 (ipykernel)",
   "language": "python",
   "name": "python3"
  },
  "language_info": {
   "codemirror_mode": {
    "name": "ipython",
    "version": 3
   },
   "file_extension": ".py",
   "mimetype": "text/x-python",
   "name": "python",
   "nbconvert_exporter": "python",
   "pygments_lexer": "ipython3",
   "version": "3.10.5"
  }
 },
 "nbformat": 4,
 "nbformat_minor": 5
}
