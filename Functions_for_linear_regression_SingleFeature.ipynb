{
 "cells": [
  {
   "cell_type": "markdown",
   "id": "89a951d0",
   "metadata": {},
   "source": [
    "#### cost function for linear regression"
   ]
  },
  {
   "cell_type": "code",
   "execution_count": 5,
   "id": "30985c15",
   "metadata": {},
   "outputs": [],
   "source": [
    "import numpy as np\n"
   ]
  },
  {
   "cell_type": "code",
   "execution_count": 6,
   "id": "b335e0fc",
   "metadata": {},
   "outputs": [],
   "source": [
    "x_train=np.array([1.0,2.0])\n",
    "y_train=np.array([300.0,500.0])"
   ]
  },
  {
   "cell_type": "code",
   "execution_count": 8,
   "id": "ea84b1aa",
   "metadata": {},
   "outputs": [],
   "source": [
    "def compute_cost(x,y,w,b):\n",
    "    m=x.shape[0]\n",
    "    cost=0\n",
    "    for i in range(m):\n",
    "        f_wb=w*x[i]+b\n",
    "        sub_sq=(f_wb-y[i])**2\n",
    "        cost=cost+sub_sq\n",
    "    total_cost=(1/(2*m))*cost\n",
    "    return total_cost"
   ]
  },
  {
   "cell_type": "markdown",
   "id": "71051b64",
   "metadata": {},
   "source": [
    "#### compute gradient"
   ]
  },
  {
   "cell_type": "code",
   "execution_count": 10,
   "id": "cc944c3f",
   "metadata": {},
   "outputs": [],
   "source": [
    "def compute_gradient(x,y,w,b):\n",
    "    m=x.shape[0]\n",
    "    sum=0\n",
    "    sum1=0\n",
    "    for i in range(m):\n",
    "        f_wb=w*x[i]+b\n",
    "        sub_mul=(f_wb-y[i])*x[i]\n",
    "        sum=sum+sub_mul\n",
    "        sub_mul1=(f_wb-y[i])\n",
    "        sum1=sum1+sub_mul1\n",
    "    dj_dw=(1/m)*sum\n",
    "    dj_db=(1/m)*sum1\n",
    "    return dj_dw,dj_db"
   ]
  },
  {
   "cell_type": "markdown",
   "id": "cb671e90",
   "metadata": {},
   "source": [
    "#### computing gradient descent"
   ]
  },
  {
   "cell_type": "code",
   "execution_count": 12,
   "id": "2a034626",
   "metadata": {},
   "outputs": [],
   "source": [
    "def gradient_descent(w,b,alpha,gradient_func,iterations):\n",
    "    for i in iterations:\n",
    "        dj_dw,dj_db=gradient_func(x_train,y_train,w,b)\n",
    "        w=w-alpha*dj_dw\n",
    "        b=b-alpha*dj_db\n",
    "    return w,b"
   ]
  },
  {
   "cell_type": "code",
   "execution_count": null,
   "id": "8875305e",
   "metadata": {},
   "outputs": [],
   "source": []
  }
 ],
 "metadata": {
  "kernelspec": {
   "display_name": "Python 3 (ipykernel)",
   "language": "python",
   "name": "python3"
  },
  "language_info": {
   "codemirror_mode": {
    "name": "ipython",
    "version": 3
   },
   "file_extension": ".py",
   "mimetype": "text/x-python",
   "name": "python",
   "nbconvert_exporter": "python",
   "pygments_lexer": "ipython3",
   "version": "3.10.5"
  }
 },
 "nbformat": 4,
 "nbformat_minor": 5
}
